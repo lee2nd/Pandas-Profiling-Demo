{
 "cells": [
  {
   "cell_type": "code",
   "execution_count": null,
   "id": "380c10e1-08df-4d70-9a9f-ecb950dd5278",
   "metadata": {},
   "outputs": [],
   "source": [
    "# https://github.com/ydataai/pandas-profiling\n",
    "# https://ithelp.ithome.com.tw/articles/10211753\n",
    "\n",
    "from sklearn.datasets import load_boston\n",
    "import pandas as pd\n",
    "import pandas_profiling\n",
    "import warnings\n",
    "warnings.filterwarnings('ignore')\n",
    "\n",
    "data = load_boston()[\"data\"]\n",
    "cols = load_boston()[\"feature_names\"]\n",
    "df = pd.DataFrame(data=data, columns=cols)\n",
    "\n",
    "profile = pandas_profiling.ProfileReport(df, title=\"Pandas Profiling Report\")\n",
    "\n",
    "# directly embedded in a cell in a similar fashion\n",
    "profile.to_notebook_iframe()"
   ]
  }
 ],
 "metadata": {
  "kernelspec": {
   "display_name": "Python 3 (ipykernel)",
   "language": "python",
   "name": "python3"
  },
  "language_info": {
   "codemirror_mode": {
    "name": "ipython",
    "version": 3
   },
   "file_extension": ".py",
   "mimetype": "text/x-python",
   "name": "python",
   "nbconvert_exporter": "python",
   "pygments_lexer": "ipython3",
   "version": "3.9.7"
  }
 },
 "nbformat": 4,
 "nbformat_minor": 5
}
